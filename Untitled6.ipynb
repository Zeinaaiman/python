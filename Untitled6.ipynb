{
  "nbformat": 4,
  "nbformat_minor": 0,
  "metadata": {
    "colab": {
      "provenance": []
    },
    "kernelspec": {
      "name": "python3",
      "display_name": "Python 3"
    },
    "language_info": {
      "name": "python"
    }
  },
  "cells": [
    {
      "cell_type": "code",
      "execution_count": null,
      "metadata": {
        "colab": {
          "base_uri": "https://localhost:8080/"
        },
        "id": "Iv5IBOdG6Fxe",
        "outputId": "016aea34-d597-4f59-fc78-fc6423b244c1"
      },
      "outputs": [
        {
          "output_type": "stream",
          "name": "stdout",
          "text": [
            "29\n"
          ]
        }
      ],
      "source": [
        "def summation(a):\n",
        "  sum = 0\n",
        "  for i in a:\n",
        "    sum += i\n",
        "  return sum\n",
        "\n",
        "print(summation([1,2,5,6,7,8]))"
      ]
    },
    {
      "cell_type": "code",
      "source": [
        "import random\n",
        "a = [random.randint(1,10) for i in range(10)]\n",
        "print(a)\n",
        "b = {1,2}\n",
        "b.clear()\n",
        "for i in a:\n",
        "  if a.count(i) > 1:\n",
        "    b.add(i)\n",
        "\n",
        "print(b)"
      ],
      "metadata": {
        "colab": {
          "base_uri": "https://localhost:8080/"
        },
        "id": "9PUTQOP_6e8f",
        "outputId": "a51af4d8-3be7-4252-cf11-221208c19181"
      },
      "execution_count": null,
      "outputs": [
        {
          "output_type": "stream",
          "name": "stdout",
          "text": [
            "[9, 6, 4, 10, 9, 1, 4, 4, 6, 7]\n",
            "{9, 4, 6}\n"
          ]
        }
      ]
    },
    {
      "cell_type": "code",
      "source": [
        "for i in range(8):\n",
        "  for i in range(8):\n",
        "    print(\"#\" , end=\"\")\n",
        "  print(\"\\n\")"
      ],
      "metadata": {
        "colab": {
          "base_uri": "https://localhost:8080/"
        },
        "id": "En75Wbbr8nYF",
        "outputId": "22a55e4c-3b42-4dae-8977-48dd6a002328"
      },
      "execution_count": null,
      "outputs": [
        {
          "output_type": "stream",
          "name": "stdout",
          "text": [
            "########\n",
            "\n",
            "########\n",
            "\n",
            "########\n",
            "\n",
            "########\n",
            "\n",
            "########\n",
            "\n",
            "########\n",
            "\n",
            "########\n",
            "\n",
            "########\n",
            "\n"
          ]
        }
      ]
    },
    {
      "cell_type": "code",
      "source": [
        "fruit_list = [\"apple\", \"banana\", \"Orange\", \"lemon\"]\n",
        "for i in range(len(fruit_list) - 1, -1, -1):\n",
        "  print(fruit_list[i])"
      ],
      "metadata": {
        "colab": {
          "base_uri": "https://localhost:8080/"
        },
        "id": "9rdRJmQD9RFl",
        "outputId": "0fd03472-d575-45f9-eb71-850ce8be7e19"
      },
      "execution_count": null,
      "outputs": [
        {
          "output_type": "stream",
          "name": "stdout",
          "text": [
            "lemon\n",
            "Orange\n",
            "banana\n",
            "apple\n"
          ]
        }
      ]
    },
    {
      "cell_type": "code",
      "source": [
        "countries = [\n",
        "  'Afghanistan',\n",
        "  'Albania',\n",
        "  'Algeria',\n",
        "  'Andorra',\n",
        "  'Angola',\n",
        "  'Antigua and Barbuda',\n",
        "  'Argentina',\n",
        "  'Armenia',\n",
        "  'Australia',\n",
        "  'Austria',\n",
        "  'Azerbaijan',\n",
        "  'Bahamas',\n",
        "  'Bahrain',\n",
        "  'Bangladesh',\n",
        "  'Barbados',\n",
        "  'Belarus',\n",
        "  'Belgium',\n",
        "  'Belize',\n",
        "  'Benin',\n",
        "  'Bhutan',\n",
        "  'Bolivia',\n",
        "  'Bosnia and Herzegovina',\n",
        "  'Botswana',\n",
        "  'Brazil',\n",
        "  'Brunei',\n",
        "  'Bulgaria',\n",
        "  'Burkina Faso',\n",
        "  'Burundi',\n",
        "  'Cambodia',\n",
        "  'Cameroon',\n",
        "  'Canada',\n",
        "  'Cape Verde',\n",
        "  'Central African Republic',\n",
        "  'Chad',\n",
        "  'Chile',\n",
        "  'China',\n",
        "  'Colombi',\n",
        "  'Comoros',\n",
        "  'Congo (Brazzaville)',\n",
        "  'Congo',\n",
        "  'Costa Rica',\n",
        "  \"Cote d'Ivoire\",\n",
        "  'Croatia',\n",
        "  'Cuba',\n",
        "  'Cyprus',\n",
        "  'Czech Republic',\n",
        "  'Denmark',\n",
        "  'Djibouti',\n",
        "  'Dominica',\n",
        "  'Dominican Republic',\n",
        "  'East Timor (Timor Timur)',\n",
        "  'Ecuador',\n",
        "  'Egypt',\n",
        "  'El Salvador',\n",
        "  'Equatorial Guinea',\n",
        "  'Eritrea',\n",
        "  'Estonia',\n",
        "  'Ethiopia',\n",
        "  'Fiji',\n",
        "  'Finland',\n",
        "  'France',\n",
        "  'Gabon',\n",
        "  'Gambia, The',\n",
        "  'Georgia',\n",
        "  'Germany',\n",
        "  'Ghana',\n",
        "  'Greece',\n",
        "  'Grenada',\n",
        "  'Guatemala',\n",
        "  'Guinea',\n",
        "  'Guinea-Bissau',\n",
        "  'Guyana',\n",
        "  'Haiti',\n",
        "  'Honduras',\n",
        "  'Hungary',\n",
        "  'Iceland',\n",
        "  'India',\n",
        "  'Indonesia',\n",
        "  'Iran',\n",
        "  'Iraq',\n",
        "  'Ireland',\n",
        "  'Israel',\n",
        "  'Italy',\n",
        "  'Jamaica',\n",
        "  'Japan',\n",
        "  'Jordan',\n",
        "  'Kazakhstan',\n",
        "  'Kenya',\n",
        "  'Kiribati',\n",
        "  'Korea, North',\n",
        "  'Korea, South',\n",
        "  'Kuwait',\n",
        "  'Kyrgyzstan',\n",
        "  'Laos',\n",
        "  'Latvia',\n",
        "  'Lebanon',\n",
        "  'Lesotho',\n",
        "  'Liberia',\n",
        "  'Libya',\n",
        "  'Liechtenstein',\n",
        "  'Lithuania',\n",
        "  'Luxembourg',\n",
        "  'Macedonia',\n",
        "  'Madagascar',\n",
        "  'Malawi',\n",
        "  'Malaysia',\n",
        "  'Maldives',\n",
        "  'Mali',\n",
        "  'Malta',\n",
        "  'Marshall Islands',\n",
        "  'Mauritania',\n",
        "  'Mauritius',\n",
        "  'Mexico',\n",
        "  'Micronesia',\n",
        "  'Moldova',\n",
        "  'Monaco',\n",
        "  'Mongolia',\n",
        "  'Morocco',\n",
        "  'Mozambique',\n",
        "  'Myanmar',\n",
        "  'Namibia',\n",
        "  'Nauru',\n",
        "  'Nepal',\n",
        "  'Netherlands',\n",
        "  'New Zealand',\n",
        "  'Nicaragua',\n",
        "  'Niger',\n",
        "  'Nigeria',\n",
        "  'Norway',\n",
        "  'Oman',\n",
        "  'Pakistan',\n",
        "  'Palau',\n",
        "  'Panama',\n",
        "  'Papua New Guinea',\n",
        "  'Paraguay',\n",
        "  'Peru',\n",
        "  'Philippines',\n",
        "  'Poland',\n",
        "  'Portugal',\n",
        "  'Qatar',\n",
        "  'Romania',\n",
        "  'Russia',\n",
        "  'Rwanda',\n",
        "  'Saint Kitts and Nevis',\n",
        "  'Saint Lucia',\n",
        "  'Saint Vincent',\n",
        "  'Samoa',\n",
        "  'San Marino',\n",
        "  'Sao Tome and Principe',\n",
        "  'Saudi Arabia',\n",
        "  'Senegal',\n",
        "  'Serbia and Montenegro',\n",
        "  'Seychelles',\n",
        "  'Sierra Leone',\n",
        "  'Singapore',\n",
        "  'Slovakia',\n",
        "  'Slovenia',\n",
        "  'Solomon Islands',\n",
        "  'Somalia',\n",
        "  'South Africa',\n",
        "  'Spain',\n",
        "  'Sri Lanka',\n",
        "  'Sudan',\n",
        "  'Suriname',\n",
        "  'Swaziland',\n",
        "  'Sweden',\n",
        "  'Switzerland',\n",
        "  'Syria',\n",
        "  'Taiwan',\n",
        "  'Tajikistan',\n",
        "  'Tanzania',\n",
        "  'Thailand',\n",
        "  'Togo',\n",
        "  'Tonga',\n",
        "  'Trinidad and Tobago',\n",
        "  'Tunisia',\n",
        "  'Turkey',\n",
        "  'Turkmenistan',\n",
        "  'Tuvalu',\n",
        "  'Uganda',\n",
        "  'Ukraine',\n",
        "  'United Arab Emirates',\n",
        "  'United Kingdom',\n",
        "  'United States',\n",
        "  'Uruguay',\n",
        "  'Uzbekistan',\n",
        "  'Vanuatu',\n",
        "  'Vatican City',\n",
        "  'Venezuela',\n",
        "  'Vietnam',\n",
        "  'Yemen',\n",
        "  'Zambia',\n",
        "  'Zimbabwe',\n",
        "]\n",
        "for i in countries:\n",
        "  if \"land\" in i:\n",
        "    print(i)"
      ],
      "metadata": {
        "colab": {
          "base_uri": "https://localhost:8080/"
        },
        "id": "w5qjsMWT-A_i",
        "outputId": "b28c1e4d-a5d1-43af-e822-dcda1e645885"
      },
      "execution_count": null,
      "outputs": [
        {
          "output_type": "stream",
          "name": "stdout",
          "text": [
            "Finland\n",
            "Iceland\n",
            "Ireland\n",
            "Marshall Islands\n",
            "Netherlands\n",
            "New Zealand\n",
            "Poland\n",
            "Solomon Islands\n",
            "Swaziland\n",
            "Switzerland\n",
            "Thailand\n"
          ]
        }
      ]
    },
    {
      "cell_type": "code",
      "source": [
        "person = {\n",
        "    \"first_name\" : \"Zanzun\",\n",
        "    \"last_name\" : \"dessouky\",\n",
        "    \"age\" : 19,\n",
        "    \"country\" : \"France\",\n",
        "    \"is_married\" : False,\n",
        "    \"skills\" : [\"JavaScript\", \"React\", \"Node\", \"MongoDB\", \"Python\"]\n",
        "}\n",
        "\n",
        "if \"skills\" in person.keys():\n",
        "  print(person[\"skills\"])\n",
        "  if \"JavaScript\" in person[\"skills\"] and \"React\" in person[\"skills\"]:\n",
        "    print(\"He is a frontend\")\n",
        "  elif \"Node\" in person[\"skills\"] and \"Python\" in person[\"skills\"] and \"MongoDB\" in person[\"skills\"]:\n",
        "    print(\"He is a backend\")\n",
        "  elif \"Node\" in person[\"skills\"] and \"React\" in person[\"skills\"] and \"MongoDB\" in person[\"skills\"]:\n",
        "    print(\"He is a fullstack\")\n",
        "  else:\n",
        "    print(\"unknown title\")\n",
        "\n",
        "print(f\"{person['first_name']} {person['last_name']} lives in {person['country']}\")"
      ],
      "metadata": {
        "colab": {
          "base_uri": "https://localhost:8080/"
        },
        "id": "91lo_hcI-vAN",
        "outputId": "40cb5d36-82a0-40cc-971f-47cb5c51483e"
      },
      "execution_count": null,
      "outputs": [
        {
          "output_type": "stream",
          "name": "stdout",
          "text": [
            "['JavaScript', 'React', 'Node', 'MongoDB', 'Python']\n",
            "He is a frontend\n",
            "Zanzun dessouky lives in France\n"
          ]
        }
      ]
    },
    {
      "cell_type": "code",
      "source": [
        "def same_data(a):\n",
        "  typ = type(a[0])\n",
        "  for i in a:\n",
        "    if type(i) != typ:\n",
        "      return False\n",
        "  return True\n",
        "\n",
        "a = [4,5,79,\"i\", 20]\n",
        "print(same_data(a))\n",
        "a = [4,5,79, 20]\n",
        "print(same_data(a))"
      ],
      "metadata": {
        "colab": {
          "base_uri": "https://localhost:8080/"
        },
        "id": "uf5Al7JcGTn_",
        "outputId": "b046c916-8200-47c9-f61f-784a5e7c9ada"
      },
      "execution_count": null,
      "outputs": [
        {
          "output_type": "stream",
          "name": "stdout",
          "text": [
            "False\n",
            "True\n"
          ]
        }
      ]
    },
    {
      "cell_type": "code",
      "source": [
        "# def valid_var_name(str):\n",
        "#   for i in str:\n",
        "#     if \"a\" < i < \"z\" or \"A\" < i < \"Z\" or i == \"_\":\n",
        "#       continue\n",
        "#     elif type(str[0]) != type (5):\n",
        "#       continue\n",
        "#     else:\n",
        "#       return False\n",
        "#   return True\n",
        "\n",
        "# a = \"2ultra\"\n",
        "# b = \"zina fun\"\n",
        "# p = \"Zina_fun\"\n",
        "# o = \"u&oi\"\n",
        "# print(valid_var_name(a))\n",
        "# print(valid_var_name(b))\n",
        "# print(valid_var_name(p))\n",
        "# print(valid_var_name(o))"
      ],
      "metadata": {
        "id": "8CQbxWtmDGxP",
        "colab": {
          "base_uri": "https://localhost:8080/"
        },
        "outputId": "ad031252-ad98-4c92-af42-167925fff7a1"
      },
      "execution_count": null,
      "outputs": [
        {
          "output_type": "stream",
          "name": "stdout",
          "text": [
            "True\n",
            "True\n",
            "True\n",
            "True\n"
          ]
        }
      ]
    },
    {
      "cell_type": "code",
      "source": [
        "def taxiFare(num):\n",
        "  return 4 + ((num // 140) * 0.25)\n",
        "\n",
        "num = 290\n",
        "print(taxiFare(num))"
      ],
      "metadata": {
        "colab": {
          "base_uri": "https://localhost:8080/"
        },
        "id": "BmuZh4-4MsSv",
        "outputId": "a1a326e1-a68a-455f-fbee-0777a0ec5b34"
      },
      "execution_count": null,
      "outputs": [
        {
          "output_type": "stream",
          "name": "stdout",
          "text": [
            "4.5\n"
          ]
        }
      ]
    },
    {
      "cell_type": "code",
      "source": [
        "num = int(input(\"Enter a num:\"))\n",
        "for i in range(num+1):\n",
        "  for j in range(1, i+1):\n",
        "    print(j, end=\" \")\n",
        "  print()"
      ],
      "metadata": {
        "id": "9AuJrS0eOCVC",
        "colab": {
          "base_uri": "https://localhost:8080/"
        },
        "outputId": "1762de3e-0d69-424c-a4f8-488f8b395c02"
      },
      "execution_count": 47,
      "outputs": [
        {
          "output_type": "stream",
          "name": "stdout",
          "text": [
            "Enter a num:7\n",
            "\n",
            "1 \n",
            "1 2 \n",
            "1 2 3 \n",
            "1 2 3 4 \n",
            "1 2 3 4 5 \n",
            "1 2 3 4 5 6 \n",
            "1 2 3 4 5 6 7 \n"
          ]
        }
      ]
    },
    {
      "cell_type": "code",
      "source": [
        "num = int(input(\"Enter a num:\"))\n",
        "for i in range(num+1):\n",
        "  for j in range(i, 0, -1):\n",
        "    print(j, end=\" \")\n",
        "  print()"
      ],
      "metadata": {
        "colab": {
          "base_uri": "https://localhost:8080/"
        },
        "id": "1VLu0oqkRvc7",
        "outputId": "2c18dd42-2d4c-4eff-da91-e2942ddfaf64"
      },
      "execution_count": 48,
      "outputs": [
        {
          "output_type": "stream",
          "name": "stdout",
          "text": [
            "Enter a num:7\n",
            "\n",
            "1 \n",
            "2 1 \n",
            "3 2 1 \n",
            "4 3 2 1 \n",
            "5 4 3 2 1 \n",
            "6 5 4 3 2 1 \n",
            "7 6 5 4 3 2 1 \n"
          ]
        }
      ]
    },
    {
      "cell_type": "code",
      "source": [
        "num = int(input(\"Enter a num:\"))\n",
        "for i in range(num+1, 0, -1):\n",
        "  for j in range(num - i + 1):\n",
        "    print(\" \", end=\"\")\n",
        "  print(\"* \" * i)\n"
      ],
      "metadata": {
        "colab": {
          "base_uri": "https://localhost:8080/"
        },
        "id": "5_cPli06R9L8",
        "outputId": "de5a5e26-214b-410b-a5db-07317040d39e"
      },
      "execution_count": 64,
      "outputs": [
        {
          "output_type": "stream",
          "name": "stdout",
          "text": [
            "Enter a num:6\n",
            "* * * * * * * \n",
            " * * * * * * \n",
            "  * * * * * \n",
            "   * * * * \n",
            "    * * * \n",
            "     * * \n",
            "      * \n"
          ]
        }
      ]
    },
    {
      "cell_type": "code",
      "source": [],
      "metadata": {
        "id": "DmAfszcMT9HS"
      },
      "execution_count": null,
      "outputs": []
    }
  ]
}